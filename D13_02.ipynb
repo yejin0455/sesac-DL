{
  "nbformat": 4,
  "nbformat_minor": 0,
  "metadata": {
    "colab": {
      "name": "D13-02.ipynb",
      "provenance": [],
      "collapsed_sections": [],
      "include_colab_link": true
    },
    "kernelspec": {
      "name": "python3",
      "display_name": "Python 3"
    },
    "language_info": {
      "name": "python"
    },
    "accelerator": "GPU"
  },
  "cells": [
    {
      "cell_type": "markdown",
      "metadata": {
        "id": "view-in-github",
        "colab_type": "text"
      },
      "source": [
        "<a href=\"https://colab.research.google.com/github/yejin0455/sesac-DL/blob/main/D13_02.ipynb\" target=\"_parent\"><img src=\"https://colab.research.google.com/assets/colab-badge.svg\" alt=\"Open In Colab\"/></a>"
      ]
    },
    {
      "cell_type": "code",
      "execution_count": null,
      "metadata": {
        "colab": {
          "base_uri": "https://localhost:8080/"
        },
        "id": "Hy8wE8KoFsfe",
        "outputId": "9ebc82f6-1e18-4ccf-cd0b-d2d3f763dd05"
      },
      "outputs": [
        {
          "output_type": "stream",
          "name": "stdout",
          "text": [
            "Mounted at /content/drive\n"
          ]
        }
      ],
      "source": [
        "%run my_init.py"
      ]
    },
    {
      "cell_type": "code",
      "source": [
        "%matplotlib inline"
      ],
      "metadata": {
        "id": "A6IQN5oosLWy"
      },
      "execution_count": null,
      "outputs": []
    },
    {
      "cell_type": "code",
      "source": [
        "from tensorflow import keras\n",
        "\n",
        "(X_train, y_train), (X_test, y_test) = keras.datasets.fashion_mnist.load_data()"
      ],
      "metadata": {
        "id": "3oZ5qk3-sSYK",
        "colab": {
          "base_uri": "https://localhost:8080/"
        },
        "outputId": "afc6c76e-9060-413c-e731-da33ae3087a6"
      },
      "execution_count": null,
      "outputs": [
        {
          "output_type": "stream",
          "name": "stdout",
          "text": [
            "Downloading data from https://storage.googleapis.com/tensorflow/tf-keras-datasets/train-labels-idx1-ubyte.gz\n",
            "32768/29515 [=================================] - 0s 0us/step\n",
            "40960/29515 [=========================================] - 0s 0us/step\n",
            "Downloading data from https://storage.googleapis.com/tensorflow/tf-keras-datasets/train-images-idx3-ubyte.gz\n",
            "26427392/26421880 [==============================] - 0s 0us/step\n",
            "26435584/26421880 [==============================] - 0s 0us/step\n",
            "Downloading data from https://storage.googleapis.com/tensorflow/tf-keras-datasets/t10k-labels-idx1-ubyte.gz\n",
            "16384/5148 [===============================================================================================] - 0s 0us/step\n",
            "Downloading data from https://storage.googleapis.com/tensorflow/tf-keras-datasets/t10k-images-idx3-ubyte.gz\n",
            "4423680/4422102 [==============================] - 0s 0us/step\n",
            "4431872/4422102 [==============================] - 0s 0us/step\n"
          ]
        }
      ]
    },
    {
      "cell_type": "code",
      "source": [
        "(X_train.shape, y_train.shape), (X_test.shape, y_test.shape)"
      ],
      "metadata": {
        "colab": {
          "base_uri": "https://localhost:8080/"
        },
        "id": "JacjnPyhsXtw",
        "outputId": "080e8278-06b1-4dc2-961e-df85b3e5b423"
      },
      "execution_count": null,
      "outputs": [
        {
          "output_type": "execute_result",
          "data": {
            "text/plain": [
              "(((60000, 28, 28), (60000,)), ((10000, 28, 28), (10000,)))"
            ]
          },
          "metadata": {},
          "execution_count": 4
        }
      ]
    },
    {
      "cell_type": "code",
      "source": [
        "classes = ['T-shirt/top', 'Trouser', 'Pullover', 'Dress', 'Coat', \\\n",
        "           'Sandal', 'Shirt', 'Sneaker', 'Bag', 'Ankle boot'] "
      ],
      "metadata": {
        "id": "4zUDYJNtyL5o"
      },
      "execution_count": null,
      "outputs": []
    },
    {
      "cell_type": "code",
      "source": [
        "X_train_scaled = (X_train / 255.0)\n",
        "X_train_scaled.shape"
      ],
      "metadata": {
        "colab": {
          "base_uri": "https://localhost:8080/"
        },
        "id": "k-JmutHUzrUY",
        "outputId": "86925219-d860-491c-f338-fe0c00130919"
      },
      "execution_count": null,
      "outputs": [
        {
          "output_type": "execute_result",
          "data": {
            "text/plain": [
              "(60000, 28, 28)"
            ]
          },
          "metadata": {},
          "execution_count": 7
        }
      ]
    },
    {
      "cell_type": "code",
      "source": [
        "from sklearn.model_selection import train_test_split\n",
        "\n",
        "X_train_scaled, X_val_scaled, y_train, y_val = \\\n",
        "  train_test_split(X_train_scaled, y_train, test_size=0.2, random_state=42)\n",
        "X_train_scaled.shape, X_val_scaled.shape, y_train.shape, y_val.shape"
      ],
      "metadata": {
        "colab": {
          "base_uri": "https://localhost:8080/"
        },
        "id": "bjaQF_t8k58R",
        "outputId": "af22558a-5e47-4e21-ea95-31e39160c1bd"
      },
      "execution_count": null,
      "outputs": [
        {
          "output_type": "execute_result",
          "data": {
            "text/plain": [
              "((48000, 28, 28), (12000, 28, 28), (48000,), (12000,))"
            ]
          },
          "metadata": {},
          "execution_count": 8
        }
      ]
    },
    {
      "cell_type": "code",
      "source": [
        "def model_fn(a_layer=None):\n",
        "  model = keras.Sequential(name=\"fashion_mnist_model\")\n",
        "  model.add(keras.layers.Flatten(input_shape=(28, 28), name=\"input\"))\n",
        "  model.add(keras.layers.Dense(100, activation='relu', name=\"hidden_1\"))\n",
        "  if a_layer:\n",
        "    model.add(a_layer)\n",
        "  model.add(keras.layers.Dense(10, activation='softmax', name=\"output\"))\n",
        "  return model"
      ],
      "metadata": {
        "id": "1Uy9ONUfhzUu"
      },
      "execution_count": null,
      "outputs": []
    },
    {
      "cell_type": "code",
      "source": [
        "def model_fn2(*layers):\n",
        "  model = keras.Sequential(name=\"fashion_mnist_model\")\n",
        "  model.add(keras.layers.Flatten(input_shape=(28, 28), name=\"input\"))\n",
        "  model.add(keras.layers.Dense(100, activation='relu', name=\"hidden_1\"))\n",
        "  for layer in layers:\n",
        "    model.add(layer)\n",
        "  model.add(keras.layers.Dense(10, activation='softmax', name=\"output\"))\n",
        "  return model"
      ],
      "metadata": {
        "id": "VJxKcfFV4Ysx"
      },
      "execution_count": null,
      "outputs": []
    },
    {
      "cell_type": "code",
      "source": [
        "model = model_fn2()"
      ],
      "metadata": {
        "id": "U75XPl4Z5PBV"
      },
      "execution_count": null,
      "outputs": []
    },
    {
      "cell_type": "code",
      "source": [
        "model.summary()"
      ],
      "metadata": {
        "colab": {
          "base_uri": "https://localhost:8080/"
        },
        "id": "JEt1ySKn5X2E",
        "outputId": "a39d8b53-5e1a-4ed6-f999-124d190a1279"
      },
      "execution_count": null,
      "outputs": [
        {
          "output_type": "stream",
          "name": "stdout",
          "text": [
            "Model: \"fashion_mnist_model\"\n",
            "_________________________________________________________________\n",
            " Layer (type)                Output Shape              Param #   \n",
            "=================================================================\n",
            " input (Flatten)             (None, 784)               0         \n",
            "                                                                 \n",
            " hidden_1 (Dense)            (None, 100)               78500     \n",
            "                                                                 \n",
            " output (Dense)              (None, 10)                1010      \n",
            "                                                                 \n",
            "=================================================================\n",
            "Total params: 79,510\n",
            "Trainable params: 79,510\n",
            "Non-trainable params: 0\n",
            "_________________________________________________________________\n"
          ]
        }
      ]
    },
    {
      "cell_type": "code",
      "source": [
        "a, b, *c = 1, 2, 3, 4, 5"
      ],
      "metadata": {
        "id": "Cvmt56C0tUNG"
      },
      "execution_count": null,
      "outputs": []
    },
    {
      "cell_type": "code",
      "source": [
        "a, b, c"
      ],
      "metadata": {
        "colab": {
          "base_uri": "https://localhost:8080/"
        },
        "id": "fTIv8hrovXQN",
        "outputId": "db6295da-d4aa-4c8c-c9c7-eaf89c4ad6a3"
      },
      "execution_count": null,
      "outputs": [
        {
          "output_type": "execute_result",
          "data": {
            "text/plain": [
              "(1, 2, [3, 4, 5])"
            ]
          },
          "metadata": {},
          "execution_count": 17
        }
      ]
    },
    {
      "cell_type": "code",
      "source": [
        "a, b, *c"
      ],
      "metadata": {
        "colab": {
          "base_uri": "https://localhost:8080/"
        },
        "id": "JKTP2KWzvfJ0",
        "outputId": "8845415d-be20-4592-ee0b-37392497ff92"
      },
      "execution_count": null,
      "outputs": [
        {
          "output_type": "execute_result",
          "data": {
            "text/plain": [
              "(1, 2, 3, 4, 5)"
            ]
          },
          "metadata": {},
          "execution_count": 14
        }
      ]
    },
    {
      "cell_type": "code",
      "source": [
        "def fn(*args, **kwargs):\n",
        "  for i, arg in enumerate(args):\n",
        "    print(f\"args[{i}]={arg}\")\n",
        "  for k, v in kwargs.items():\n",
        "    print(f\"{k}={v}\")"
      ],
      "metadata": {
        "id": "ly_xU4hsvjpM"
      },
      "execution_count": null,
      "outputs": []
    },
    {
      "cell_type": "code",
      "source": [
        "fn(1, 2, x=3, y=4, z=5)"
      ],
      "metadata": {
        "colab": {
          "base_uri": "https://localhost:8080/"
        },
        "id": "fuwkkWtX2o_L",
        "outputId": "9d030c7e-5ab3-4408-84a2-105c2879114f"
      },
      "execution_count": null,
      "outputs": [
        {
          "output_type": "stream",
          "name": "stdout",
          "text": [
            "args[0]=1\n",
            "args[1]=2\n",
            "x=3\n",
            "y=4\n",
            "z=5\n"
          ]
        }
      ]
    },
    {
      "cell_type": "code",
      "source": [
        "model.compile(loss=\"sparse_categorical_crossentropy\", metrics=['accuracy'])\n",
        "history = model.fit(X_train_scaled, y_train, epochs=20, verbose=0, \\\n",
        "                    validation_data=(X_val_scaled, y_val))"
      ],
      "metadata": {
        "id": "b0ms1hQa26pb"
      },
      "execution_count": null,
      "outputs": []
    },
    {
      "cell_type": "code",
      "source": [
        "history.history.keys()"
      ],
      "metadata": {
        "colab": {
          "base_uri": "https://localhost:8080/"
        },
        "id": "4QS3lAka7YVO",
        "outputId": "d91bf782-23eb-40c0-9f3c-f5a415984933"
      },
      "execution_count": null,
      "outputs": [
        {
          "output_type": "execute_result",
          "data": {
            "text/plain": [
              "dict_keys(['loss', 'accuracy', 'val_loss', 'val_accuracy'])"
            ]
          },
          "metadata": {},
          "execution_count": 40
        }
      ]
    },
    {
      "cell_type": "code",
      "source": [
        "plt.plot(history.history['loss'])\n",
        "plt.plot(history.history['val_loss'])\n",
        "plt.xlabel('epoch')\n",
        "plt.ylabel('loss')\n",
        "plt.legend(['train', 'val'])\n",
        "plt.show()"
      ],
      "metadata": {
        "colab": {
          "base_uri": "https://localhost:8080/",
          "height": 279
        },
        "id": "faF6U6NB8F6r",
        "outputId": "00552ac3-07e7-4852-ee11-a8ce37a1d55b"
      },
      "execution_count": null,
      "outputs": [
        {
          "output_type": "display_data",
          "data": {
            "text/plain": [
              "<Figure size 432x288 with 1 Axes>"
            ],
            "image/png": "[encoded data removed]"
          },
          "metadata": {
            "needs_background": "light"
          }
        }
      ]
    },
    {
      "cell_type": "code",
      "source": [
        "optimizers = ['sgd', 'rmsprop', 'adam']\n",
        "models, histories = [], []\n",
        "for i, opt in enumerate(optimizers): \n",
        "  models.append(model_fn2())\n",
        "  models[i].compile(optimizer=opt, loss=\"sparse_categorical_crossentropy\", metrics=['accuracy'])\n",
        "  histories.append(models[i].fit(X_train_scaled, y_train, epochs=20, verbose=0, \\\n",
        "                                 validation_data=(X_val_scaled, y_val)))"
      ],
      "metadata": {
        "id": "-uJhJKK08ODi"
      },
      "execution_count": null,
      "outputs": []
    },
    {
      "cell_type": "code",
      "source": [
        "fig, axes = plt.subplots(3, 1, figsize=(8, 12))\n",
        "for i, opt in enumerate(['sgd', 'rmsprop', 'adam']): \n",
        "  axes[i].plot(histories[i].history['loss'])\n",
        "  axes[i].plot(histories[i].history['val_loss'])\n",
        "  axes[i].set_title(opt)\n",
        "  axes[i].set_xlabel('epoch')\n",
        "  axes[i].set_ylabel('loss')\n",
        "  axes[i].legend(['train', 'val'])\n",
        "fig.tight_layout()\n",
        "plt.show()"
      ],
      "metadata": {
        "colab": {
          "base_uri": "https://localhost:8080/",
          "height": 873
        },
        "id": "tn_BkdtlEgAO",
        "outputId": "2a477395-fc2e-4bee-f8de-23656e44e4b2"
      },
      "execution_count": null,
      "outputs": [
        {
          "output_type": "display_data",
          "data": {
            "text/plain": [
              "<Figure size 576x864 with 3 Axes>"
            ],
            "image/png": "[encoded data removed]"
          },
          "metadata": {
            "needs_background": "light"
          }
        }
      ]
    },
    {
      "cell_type": "code",
      "source": [
        ""
      ],
      "metadata": {
        "id": "g-4LbbiZATPQ"
      },
      "execution_count": null,
      "outputs": []
    }
  ]
}