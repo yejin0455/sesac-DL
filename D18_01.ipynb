{
  "nbformat": 4,
  "nbformat_minor": 0,
  "metadata": {
    "colab": {
      "name": "D18-01.ipynb",
      "provenance": [],
      "collapsed_sections": [],
      "include_colab_link": true
    },
    "kernelspec": {
      "name": "python3",
      "display_name": "Python 3"
    },
    "language_info": {
      "name": "python"
    }
  },
  "cells": [
    {
      "cell_type": "markdown",
      "metadata": {
        "id": "view-in-github",
        "colab_type": "text"
      },
      "source": [
        "<a href=\"https://colab.research.google.com/github/yejin0455/sesac-DL/blob/main/D18_01.ipynb\" target=\"_parent\"><img src=\"https://colab.research.google.com/assets/colab-badge.svg\" alt=\"Open In Colab\"/></a>"
      ]
    },
    {
      "cell_type": "code",
      "execution_count": 2,
      "metadata": {
        "colab": {
          "base_uri": "https://localhost:8080/"
        },
        "id": "b19iHqJsjOpN",
        "outputId": "ea157ff4-7ddb-42f4-8b03-2fbf96717665"
      },
      "outputs": [
        {
          "output_type": "stream",
          "name": "stdout",
          "text": [
            "Drive already mounted at /content/drive; to attempt to forcibly remount, call drive.mount(\"/content/drive\", force_remount=True).\n",
            "tf.__version__: 2.8.0\n",
            "keras.__version__: 2.8.0\n"
          ]
        }
      ],
      "source": [
        "%run my_init.py"
      ]
    },
    {
      "cell_type": "code",
      "source": [
        "%matplotlib inline"
      ],
      "metadata": {
        "id": "nkGcyxmvjgyM"
      },
      "execution_count": 3,
      "outputs": []
    },
    {
      "cell_type": "code",
      "source": [
        "from keras.datasets import imdb\n",
        "\n",
        "(train_input, train_target), (test_input, test_target) = imdb.load_data(num_words=500)"
      ],
      "metadata": {
        "id": "IMS-crq30-ha",
        "colab": {
          "base_uri": "https://localhost:8080/"
        },
        "outputId": "f5634608-791b-4fba-b84d-638150ac7323"
      },
      "execution_count": 4,
      "outputs": [
        {
          "output_type": "stream",
          "name": "stdout",
          "text": [
            "Downloading data from https://storage.googleapis.com/tensorflow/tf-keras-datasets/imdb.npz\n",
            "17465344/17464789 [==============================] - 0s 0us/step\n",
            "17473536/17464789 [==============================] - 0s 0us/step\n"
          ]
        }
      ]
    },
    {
      "cell_type": "code",
      "source": [
        "train_input.shape, test_input.shape"
      ],
      "metadata": {
        "colab": {
          "base_uri": "https://localhost:8080/"
        },
        "id": "r9WGtHxR1Acv",
        "outputId": "d0e24e75-ad1d-43c2-93f8-4da684d334a3"
      },
      "execution_count": 5,
      "outputs": [
        {
          "output_type": "execute_result",
          "data": {
            "text/plain": [
              "((25000,), (25000,))"
            ]
          },
          "metadata": {},
          "execution_count": 5
        }
      ]
    },
    {
      "cell_type": "code",
      "source": [
        "len(train_input[0])"
      ],
      "metadata": {
        "colab": {
          "base_uri": "https://localhost:8080/"
        },
        "id": "eX2-mCEt1N4U",
        "outputId": "2502f01d-4156-49b1-8202-8194b3f095c1"
      },
      "execution_count": 6,
      "outputs": [
        {
          "output_type": "execute_result",
          "data": {
            "text/plain": [
              "218"
            ]
          },
          "metadata": {},
          "execution_count": 6
        }
      ]
    },
    {
      "cell_type": "code",
      "source": [
        "len(train_input[1])"
      ],
      "metadata": {
        "colab": {
          "base_uri": "https://localhost:8080/"
        },
        "id": "NRhvtf_X1RE6",
        "outputId": "2f657418-72ac-434e-d381-23b79044bdff"
      },
      "execution_count": 7,
      "outputs": [
        {
          "output_type": "execute_result",
          "data": {
            "text/plain": [
              "189"
            ]
          },
          "metadata": {},
          "execution_count": 7
        }
      ]
    },
    {
      "cell_type": "code",
      "source": [
        "print(train_input[0])"
      ],
      "metadata": {
        "colab": {
          "base_uri": "https://localhost:8080/"
        },
        "id": "nOFuioNY1bi_",
        "outputId": "27d36c57-08b0-41d2-b942-2296fb7d98b3"
      },
      "execution_count": 8,
      "outputs": [
        {
          "output_type": "stream",
          "name": "stdout",
          "text": [
            "[1, 14, 22, 16, 43, 2, 2, 2, 2, 65, 458, 2, 66, 2, 4, 173, 36, 256, 5, 25, 100, 43, 2, 112, 50, 2, 2, 9, 35, 480, 284, 5, 150, 4, 172, 112, 167, 2, 336, 385, 39, 4, 172, 2, 2, 17, 2, 38, 13, 447, 4, 192, 50, 16, 6, 147, 2, 19, 14, 22, 4, 2, 2, 469, 4, 22, 71, 87, 12, 16, 43, 2, 38, 76, 15, 13, 2, 4, 22, 17, 2, 17, 12, 16, 2, 18, 2, 5, 62, 386, 12, 8, 316, 8, 106, 5, 4, 2, 2, 16, 480, 66, 2, 33, 4, 130, 12, 16, 38, 2, 5, 25, 124, 51, 36, 135, 48, 25, 2, 33, 6, 22, 12, 215, 28, 77, 52, 5, 14, 407, 16, 82, 2, 8, 4, 107, 117, 2, 15, 256, 4, 2, 7, 2, 5, 2, 36, 71, 43, 2, 476, 26, 400, 317, 46, 7, 4, 2, 2, 13, 104, 88, 4, 381, 15, 297, 98, 32, 2, 56, 26, 141, 6, 194, 2, 18, 4, 226, 22, 21, 134, 476, 26, 480, 5, 144, 30, 2, 18, 51, 36, 28, 224, 92, 25, 104, 4, 226, 65, 16, 38, 2, 88, 12, 16, 283, 5, 16, 2, 113, 103, 32, 15, 16, 2, 19, 178, 32]\n"
          ]
        }
      ]
    },
    {
      "cell_type": "code",
      "source": [
        "train_target[:20]"
      ],
      "metadata": {
        "colab": {
          "base_uri": "https://localhost:8080/"
        },
        "id": "D7lS-KGK1g6y",
        "outputId": "a1ea4677-8362-41dd-e9b2-9f32c9cb252a"
      },
      "execution_count": 9,
      "outputs": [
        {
          "output_type": "execute_result",
          "data": {
            "text/plain": [
              "array([1, 0, 0, 1, 0, 0, 1, 0, 1, 0, 1, 0, 0, 0, 0, 0, 1, 1, 0, 1])"
            ]
          },
          "metadata": {},
          "execution_count": 9
        }
      ]
    },
    {
      "cell_type": "code",
      "source": [
        "train_input, val_input, train_target, val_target = train_test_split(\n",
        "    train_input, train_target, test_size=0.2, random_state=42)"
      ],
      "metadata": {
        "id": "30rny1-l1xzf"
      },
      "execution_count": 10,
      "outputs": []
    },
    {
      "cell_type": "code",
      "source": [
        "train_input.shape"
      ],
      "metadata": {
        "colab": {
          "base_uri": "https://localhost:8080/"
        },
        "id": "vHmkYfBZ10WL",
        "outputId": "85c9cdae-e34e-49b1-c94d-12170d7bb580"
      },
      "execution_count": 11,
      "outputs": [
        {
          "output_type": "execute_result",
          "data": {
            "text/plain": [
              "(20000,)"
            ]
          },
          "metadata": {},
          "execution_count": 11
        }
      ]
    },
    {
      "cell_type": "code",
      "source": [
        "lengths = [len(x) for x in train_input]\n",
        "lengths[:10]"
      ],
      "metadata": {
        "colab": {
          "base_uri": "https://localhost:8080/"
        },
        "id": "i9w-Vntg2L3_",
        "outputId": "82dcf4cb-e663-409f-a160-d5f848dcbd1f"
      },
      "execution_count": 12,
      "outputs": [
        {
          "output_type": "execute_result",
          "data": {
            "text/plain": [
              "[259, 520, 290, 109, 559, 96, 130, 935, 383, 716]"
            ]
          },
          "metadata": {},
          "execution_count": 12
        }
      ]
    },
    {
      "cell_type": "code",
      "source": [
        "np.mean(lengths), np.median(lengths)"
      ],
      "metadata": {
        "colab": {
          "base_uri": "https://localhost:8080/"
        },
        "id": "sNooY1Fy2OJ_",
        "outputId": "83acec18-775b-4b55-c628-4c2b6497b437"
      },
      "execution_count": 13,
      "outputs": [
        {
          "output_type": "execute_result",
          "data": {
            "text/plain": [
              "(239.00925, 178.0)"
            ]
          },
          "metadata": {},
          "execution_count": 13
        }
      ]
    },
    {
      "cell_type": "code",
      "source": [
        "plt.hist(lengths)\n",
        "plt.xlabel('length')\n",
        "plt.ylabel('frequency')\n",
        "plt.show()  "
      ],
      "metadata": {
        "colab": {
          "base_uri": "https://localhost:8080/",
          "height": 279
        },
        "id": "D3hl0eSp2hOj",
        "outputId": "16c0fae1-f3a2-4c7b-a791-b8af5116d9ac"
      },
      "execution_count": 14,
      "outputs": [
        {
          "output_type": "display_data",
          "data": {
            "text/plain": [
              "<Figure size 432x288 with 1 Axes>"
            ],
            "image/png": "[encoded data removed]"
          },
          "metadata": {
            "needs_background": "light"
          }
        }
      ]
    },
    {
      "cell_type": "code",
      "source": [
        "from keras.preprocessing.sequence import pad_sequences\n",
        "\n",
        "train_seq = pad_sequences(train_input, maxlen=100)"
      ],
      "metadata": {
        "id": "SxRv5VgM2-Pj"
      },
      "execution_count": 15,
      "outputs": []
    },
    {
      "cell_type": "code",
      "source": [
        "train_seq.shape"
      ],
      "metadata": {
        "colab": {
          "base_uri": "https://localhost:8080/"
        },
        "id": "11hsqcrV2-7L",
        "outputId": "58fd64d7-881a-4700-fa78-77fc800c0546"
      },
      "execution_count": 16,
      "outputs": [
        {
          "output_type": "execute_result",
          "data": {
            "text/plain": [
              "(20000, 100)"
            ]
          },
          "metadata": {},
          "execution_count": 16
        }
      ]
    },
    {
      "cell_type": "code",
      "source": [
        "train_seq[0]"
      ],
      "metadata": {
        "colab": {
          "base_uri": "https://localhost:8080/"
        },
        "id": "3eUkPFE33YeO",
        "outputId": "5c2b5835-2d60-4d73-baf9-7d3bfb2a5c4c"
      },
      "execution_count": 17,
      "outputs": [
        {
          "output_type": "execute_result",
          "data": {
            "text/plain": [
              "array([ 10,   4,  20,   9,   2, 364, 352,   5,  45,   6,   2,   2,  33,\n",
              "       269,   8,   2, 142,   2,   5,   2,  17,  73,  17, 204,   5,   2,\n",
              "        19,  55,   2,   2,  92,  66, 104,  14,  20,  93,  76,   2, 151,\n",
              "        33,   4,  58,  12, 188,   2, 151,  12, 215,  69, 224, 142,  73,\n",
              "       237,   6,   2,   7,   2,   2, 188,   2, 103,  14,  31,  10,  10,\n",
              "       451,   7,   2,   5,   2,  80,  91,   2,  30,   2,  34,  14,  20,\n",
              "       151,  50,  26, 131,  49,   2,  84,  46,  50,  37,  80,  79,   6,\n",
              "         2,  46,   7,  14,  20,  10,  10, 470, 158], dtype=int32)"
            ]
          },
          "metadata": {},
          "execution_count": 17
        }
      ]
    },
    {
      "cell_type": "code",
      "source": [
        "train_seq[5]"
      ],
      "metadata": {
        "colab": {
          "base_uri": "https://localhost:8080/"
        },
        "id": "CUBJ4YLO3ZGi",
        "outputId": "5fd80935-12f3-482e-8146-cfd1b99f7a31"
      },
      "execution_count": 18,
      "outputs": [
        {
          "output_type": "execute_result",
          "data": {
            "text/plain": [
              "array([  0,   0,   0,   0,   1,   2, 195,  19,  49,   2,   2, 190,   4,\n",
              "         2, 352,   2, 183,  10,  10,  13,  82,  79,   4,   2,  36,  71,\n",
              "       269,   8,   2,  25,  19,  49,   7,   4,   2,   2,   2,   2,   2,\n",
              "        10,  10,  48,  25,  40,   2,  11,   2,   2,  40,   2,   2,   5,\n",
              "         4,   2,   2,  95,  14, 238,  56, 129,   2,  10,  10,  21,   2,\n",
              "        94, 364, 352,   2,   2,  11, 190,  24, 484,   2,   7,  94, 205,\n",
              "       405,  10,  10,  87,   2,  34,  49,   2,   7,   2,   2,   2,   2,\n",
              "         2, 290,   2,  46,  48,  64,  18,   4,   2], dtype=int32)"
            ]
          },
          "metadata": {},
          "execution_count": 18
        }
      ]
    },
    {
      "cell_type": "code",
      "source": [
        "val_seq = pad_sequences(val_input, maxlen=100)\n",
        "val_seq.shape"
      ],
      "metadata": {
        "colab": {
          "base_uri": "https://localhost:8080/"
        },
        "id": "B-e4q9NL3k-T",
        "outputId": "14689895-e0b8-42ff-e957-749be552f944"
      },
      "execution_count": 19,
      "outputs": [
        {
          "output_type": "execute_result",
          "data": {
            "text/plain": [
              "(5000, 100)"
            ]
          },
          "metadata": {},
          "execution_count": 19
        }
      ]
    },
    {
      "cell_type": "code",
      "source": [
        "train_oh = keras.utils.to_categorical(train_seq)\n",
        "train_oh.shape"
      ],
      "metadata": {
        "colab": {
          "base_uri": "https://localhost:8080/"
        },
        "id": "e3ydHc4l4ebf",
        "outputId": "b5369005-0af1-4f70-eb75-fb21bc501c45"
      },
      "execution_count": 20,
      "outputs": [
        {
          "output_type": "execute_result",
          "data": {
            "text/plain": [
              "(20000, 100, 500)"
            ]
          },
          "metadata": {},
          "execution_count": 20
        }
      ]
    },
    {
      "cell_type": "code",
      "source": [
        "train_oh[0, 0, :12]"
      ],
      "metadata": {
        "colab": {
          "base_uri": "https://localhost:8080/"
        },
        "id": "f29Ibq3m5B3P",
        "outputId": "91b86aa2-6e09-4085-fd1e-465864f0b290"
      },
      "execution_count": 21,
      "outputs": [
        {
          "output_type": "execute_result",
          "data": {
            "text/plain": [
              "array([0., 0., 0., 0., 0., 0., 0., 0., 0., 0., 1., 0.], dtype=float32)"
            ]
          },
          "metadata": {},
          "execution_count": 21
        }
      ]
    },
    {
      "cell_type": "code",
      "source": [
        "train_oh[0, 1, :12]"
      ],
      "metadata": {
        "colab": {
          "base_uri": "https://localhost:8080/"
        },
        "id": "--Es95_K5rAy",
        "outputId": "31c37fa4-a2de-4829-d1c2-4593c8dddd3f"
      },
      "execution_count": 22,
      "outputs": [
        {
          "output_type": "execute_result",
          "data": {
            "text/plain": [
              "array([0., 0., 0., 0., 1., 0., 0., 0., 0., 0., 0., 0.], dtype=float32)"
            ]
          },
          "metadata": {},
          "execution_count": 22
        }
      ]
    },
    {
      "cell_type": "code",
      "source": [
        "train_oh[0, 99, :12]"
      ],
      "metadata": {
        "colab": {
          "base_uri": "https://localhost:8080/"
        },
        "id": "oHHue8jr5sr9",
        "outputId": "0c6c2504-dbc6-4346-ab06-2c3e5531c587"
      },
      "execution_count": 23,
      "outputs": [
        {
          "output_type": "execute_result",
          "data": {
            "text/plain": [
              "array([0., 0., 0., 0., 0., 0., 0., 0., 0., 0., 0., 0.], dtype=float32)"
            ]
          },
          "metadata": {},
          "execution_count": 23
        }
      ]
    },
    {
      "cell_type": "code",
      "source": [
        "val_oh = keras.utils.to_categorical(val_seq)\n",
        "val_oh.shape"
      ],
      "metadata": {
        "colab": {
          "base_uri": "https://localhost:8080/"
        },
        "id": "f2NCfAF946zl",
        "outputId": "b3f33625-bfc7-40d8-f3aa-b7209647cb43"
      },
      "execution_count": 24,
      "outputs": [
        {
          "output_type": "execute_result",
          "data": {
            "text/plain": [
              "(5000, 100, 500)"
            ]
          },
          "metadata": {},
          "execution_count": 24
        }
      ]
    },
    {
      "cell_type": "code",
      "source": [
        "#model = keras.Sequential()\n",
        "\n",
        "#model.add(keras.layers.SimpleRNN(8, input_shape=(100, 500)))\n",
        "#model.add(keras.layers.Dense(1, activation='sigmoid'))"
      ],
      "metadata": {
        "id": "n_lC_9I46UUE"
      },
      "execution_count": 25,
      "outputs": []
    },
    {
      "cell_type": "code",
      "source": [
        "#model.summary()"
      ],
      "metadata": {
        "id": "bJEQ9hfV6Wzy"
      },
      "execution_count": 26,
      "outputs": []
    },
    {
      "cell_type": "code",
      "source": [
        "#rmsprop = keras.optimizers.RMSprop(learning_rate=1e-4)"
      ],
      "metadata": {
        "id": "hngsspUClpAs"
      },
      "execution_count": 27,
      "outputs": []
    },
    {
      "cell_type": "code",
      "source": [
        "#model.compile(optimizer=rmsprop, loss='binary_crossentropy', \n",
        "#              metrics=['accuracy'])"
      ],
      "metadata": {
        "id": "0YoYTM-pl-9j"
      },
      "execution_count": 28,
      "outputs": []
    },
    {
      "cell_type": "code",
      "source": [
        "#checkpoint_cb = keras.callbacks.ModelCheckpoint('best-simplernn-model.h5')\n",
        "#early_stopping_cb = keras.callbacks.EarlyStopping(patience=3,\n",
        "#                                                  restore_best_weights=True)"
      ],
      "metadata": {
        "id": "ZDBnoBe1n1gr"
      },
      "execution_count": 29,
      "outputs": []
    },
    {
      "cell_type": "code",
      "source": [
        "#history = model.fit(train_oh, train_target, epochs=100, batch_size=64,\n",
        "#                    validation_data=(val_oh, val_target),\n",
        "#                    callbacks=[checkpoint_cb, early_stopping_cb])"
      ],
      "metadata": {
        "id": "3QxAXm5eoKzU"
      },
      "execution_count": 30,
      "outputs": []
    },
    {
      "cell_type": "code",
      "source": [
        "#plt.plot(history.history['loss'])\n",
        "#plt.plot(history.history['val_loss'])\n",
        "#plt.xlabel('epoch')\n",
        "#plt.ylabel('loss')\n",
        "#plt.legend(['train', 'val'])\n",
        "#plt.show()"
      ],
      "metadata": {
        "id": "FhZwHZIq2VW7"
      },
      "execution_count": 31,
      "outputs": []
    },
    {
      "cell_type": "code",
      "source": [
        "model = keras.Sequential()\n",
        "\n",
        "model.add(keras.layers.SimpleRNN(8, dropout=0.3, return_sequences=True, input_shape=(100, 500), name=\"rnn_1\"))\n",
        "model.add(keras.layers.SimpleRNN(8, dropout=0.3, name='rnn_2'))\n",
        "model.add(keras.layers.Dense(1, activation='sigmoid', name='output'))"
      ],
      "metadata": {
        "id": "5KN50GY92vxv"
      },
      "execution_count": 32,
      "outputs": []
    },
    {
      "cell_type": "code",
      "source": [
        "model.summary()"
      ],
      "metadata": {
        "id": "TtE6fmaG4Yl5",
        "colab": {
          "base_uri": "https://localhost:8080/"
        },
        "outputId": "77d0e1aa-5f7c-49b8-ed2d-c52b51480f8b"
      },
      "execution_count": 33,
      "outputs": [
        {
          "output_type": "stream",
          "name": "stdout",
          "text": [
            "Model: \"sequential\"\n",
            "_________________________________________________________________\n",
            " Layer (type)                Output Shape              Param #   \n",
            "=================================================================\n",
            " rnn_1 (SimpleRNN)           (None, 100, 8)            4072      \n",
            "                                                                 \n",
            " rnn_2 (SimpleRNN)           (None, 8)                 136       \n",
            "                                                                 \n",
            " output (Dense)              (None, 1)                 9         \n",
            "                                                                 \n",
            "=================================================================\n",
            "Total params: 4,217\n",
            "Trainable params: 4,217\n",
            "Non-trainable params: 0\n",
            "_________________________________________________________________\n"
          ]
        }
      ]
    },
    {
      "cell_type": "code",
      "source": [
        "rmsprop = keras.optimizers.RMSprop(learning_rate=1e-4)"
      ],
      "metadata": {
        "id": "NaV29-3B43RU"
      },
      "execution_count": 34,
      "outputs": []
    },
    {
      "cell_type": "code",
      "source": [
        "model.compile(optimizer=rmsprop, loss='binary_crossentropy', \n",
        "              metrics=['accuracy'])"
      ],
      "metadata": {
        "id": "VnMz_2rJ4-j0"
      },
      "execution_count": 35,
      "outputs": []
    },
    {
      "cell_type": "code",
      "source": [
        "checkpoint_cb = keras.callbacks.ModelCheckpoint('best-simplernn2-model.h5')\n",
        "early_stopping_cb = keras.callbacks.EarlyStopping(patience=3,\n",
        "                                                  restore_best_weights=True)"
      ],
      "metadata": {
        "id": "WUBS5kHv5Etq"
      },
      "execution_count": 36,
      "outputs": []
    },
    {
      "cell_type": "code",
      "source": [
        "history = model.fit(train_oh, train_target, epochs=100, batch_size=64,\n",
        "                    validation_data=(val_oh, val_target),\n",
        "                    callbacks=[checkpoint_cb, early_stopping_cb])"
      ],
      "metadata": {
        "id": "tOng0CQ05KoQ",
        "colab": {
          "base_uri": "https://localhost:8080/"
        },
        "outputId": "a3ff62e1-dc7c-4420-d24b-985fda3576e7"
      },
      "execution_count": 37,
      "outputs": [
        {
          "output_type": "stream",
          "name": "stdout",
          "text": [
            "Epoch 1/100\n",
            "313/313 [==============================] - 33s 99ms/step - loss: 0.7231 - accuracy: 0.5037 - val_loss: 0.6992 - val_accuracy: 0.5226\n",
            "Epoch 2/100\n",
            "313/313 [==============================] - 33s 106ms/step - loss: 0.7143 - accuracy: 0.5030 - val_loss: 0.6948 - val_accuracy: 0.5244\n",
            "Epoch 3/100\n",
            "313/313 [==============================] - 30s 97ms/step - loss: 0.7045 - accuracy: 0.5175 - val_loss: 0.6879 - val_accuracy: 0.5464\n",
            "Epoch 4/100\n",
            "313/313 [==============================] - 31s 98ms/step - loss: 0.6928 - accuracy: 0.5429 - val_loss: 0.6830 - val_accuracy: 0.5704\n",
            "Epoch 5/100\n",
            "313/313 [==============================] - 31s 97ms/step - loss: 0.6825 - accuracy: 0.5756 - val_loss: 0.6726 - val_accuracy: 0.5954\n",
            "Epoch 6/100\n",
            "313/313 [==============================] - 30s 97ms/step - loss: 0.6698 - accuracy: 0.6059 - val_loss: 0.6560 - val_accuracy: 0.6268\n",
            "Epoch 7/100\n",
            "313/313 [==============================] - 31s 98ms/step - loss: 0.6512 - accuracy: 0.6378 - val_loss: 0.6374 - val_accuracy: 0.6538\n",
            "Epoch 8/100\n",
            "313/313 [==============================] - 30s 97ms/step - loss: 0.6317 - accuracy: 0.6658 - val_loss: 0.6069 - val_accuracy: 0.6934\n",
            "Epoch 9/100\n",
            "313/313 [==============================] - 30s 97ms/step - loss: 0.6104 - accuracy: 0.6865 - val_loss: 0.5932 - val_accuracy: 0.6992\n",
            "Epoch 10/100\n",
            "313/313 [==============================] - 30s 97ms/step - loss: 0.5967 - accuracy: 0.6977 - val_loss: 0.5753 - val_accuracy: 0.7144\n",
            "Epoch 11/100\n",
            "313/313 [==============================] - 30s 97ms/step - loss: 0.5807 - accuracy: 0.7132 - val_loss: 0.5492 - val_accuracy: 0.7390\n",
            "Epoch 12/100\n",
            "313/313 [==============================] - 30s 97ms/step - loss: 0.5661 - accuracy: 0.7222 - val_loss: 0.5337 - val_accuracy: 0.7512\n",
            "Epoch 13/100\n",
            "313/313 [==============================] - 30s 97ms/step - loss: 0.5552 - accuracy: 0.7337 - val_loss: 0.5232 - val_accuracy: 0.7554\n",
            "Epoch 14/100\n",
            "313/313 [==============================] - 30s 97ms/step - loss: 0.5417 - accuracy: 0.7416 - val_loss: 0.5145 - val_accuracy: 0.7636\n",
            "Epoch 15/100\n",
            "313/313 [==============================] - 30s 96ms/step - loss: 0.5325 - accuracy: 0.7485 - val_loss: 0.4978 - val_accuracy: 0.7726\n",
            "Epoch 16/100\n",
            "313/313 [==============================] - 30s 97ms/step - loss: 0.5265 - accuracy: 0.7523 - val_loss: 0.4933 - val_accuracy: 0.7750\n",
            "Epoch 17/100\n",
            "313/313 [==============================] - 30s 97ms/step - loss: 0.5205 - accuracy: 0.7519 - val_loss: 0.4819 - val_accuracy: 0.7838\n",
            "Epoch 18/100\n",
            "313/313 [==============================] - 30s 96ms/step - loss: 0.5116 - accuracy: 0.7595 - val_loss: 0.4917 - val_accuracy: 0.7734\n",
            "Epoch 19/100\n",
            "313/313 [==============================] - 30s 96ms/step - loss: 0.5098 - accuracy: 0.7594 - val_loss: 0.4708 - val_accuracy: 0.7862\n",
            "Epoch 20/100\n",
            "313/313 [==============================] - 30s 96ms/step - loss: 0.5020 - accuracy: 0.7663 - val_loss: 0.4666 - val_accuracy: 0.7882\n",
            "Epoch 21/100\n",
            "313/313 [==============================] - 30s 97ms/step - loss: 0.5002 - accuracy: 0.7656 - val_loss: 0.4691 - val_accuracy: 0.7856\n",
            "Epoch 22/100\n",
            "313/313 [==============================] - 30s 96ms/step - loss: 0.4975 - accuracy: 0.7656 - val_loss: 0.4706 - val_accuracy: 0.7860\n",
            "Epoch 23/100\n",
            "313/313 [==============================] - 31s 98ms/step - loss: 0.4988 - accuracy: 0.7689 - val_loss: 0.4582 - val_accuracy: 0.7910\n",
            "Epoch 24/100\n",
            "313/313 [==============================] - 36s 114ms/step - loss: 0.4930 - accuracy: 0.7689 - val_loss: 0.4640 - val_accuracy: 0.7912\n",
            "Epoch 25/100\n",
            "313/313 [==============================] - 34s 107ms/step - loss: 0.4948 - accuracy: 0.7663 - val_loss: 0.4620 - val_accuracy: 0.7840\n",
            "Epoch 26/100\n",
            "313/313 [==============================] - 30s 97ms/step - loss: 0.4940 - accuracy: 0.7699 - val_loss: 0.4590 - val_accuracy: 0.7924\n"
          ]
        }
      ]
    },
    {
      "cell_type": "code",
      "source": [
        "plt.plot(history.history['loss'])\n",
        "plt.plot(history.history['val_loss'])\n",
        "plt.xlabel('epoch')\n",
        "plt.ylabel('loss')\n",
        "plt.legend(['train', 'val'])\n",
        "plt.show()"
      ],
      "metadata": {
        "id": "RRLnSxPp5SsF",
        "colab": {
          "base_uri": "https://localhost:8080/",
          "height": 279
        },
        "outputId": "4edf7a54-9864-4d2d-dbfd-6a90fd8e190f"
      },
      "execution_count": 38,
      "outputs": [
        {
          "output_type": "display_data",
          "data": {
            "text/plain": [
              "<Figure size 432x288 with 1 Axes>"
            ],
            "image/png": "[encoded data removed]"
          },
          "metadata": {
            "needs_background": "light"
          }
        }
      ]
    },
    {
      "cell_type": "code",
      "source": [
        "model2 = keras.Sequential()\n",
        "\n",
        "model2.add(keras.layers.Embedding(500, 16, input_length=100))\n",
        "model2.add(keras.layers.SimpleRNN(8, dropout=0.3, return_sequences=True, name=\"rnn_1\"))\n",
        "model2.add(keras.layers.SimpleRNN(8, dropout=0.3, name='rnn_2'))\n",
        "model2.add(keras.layers.Dense(1, activation='sigmoid', name='output'))"
      ],
      "metadata": {
        "id": "zki4TiUMCFB5"
      },
      "execution_count": 48,
      "outputs": []
    },
    {
      "cell_type": "code",
      "source": [
        "model2.summary()"
      ],
      "metadata": {
        "colab": {
          "base_uri": "https://localhost:8080/"
        },
        "id": "pEpRCpvJDkPf",
        "outputId": "f3419386-77fe-4d98-a915-12da84d9d279"
      },
      "execution_count": 49,
      "outputs": [
        {
          "output_type": "stream",
          "name": "stdout",
          "text": [
            "Model: \"sequential_3\"\n",
            "_________________________________________________________________\n",
            " Layer (type)                Output Shape              Param #   \n",
            "=================================================================\n",
            " embedding_2 (Embedding)     (None, 100, 16)           8000      \n",
            "                                                                 \n",
            " rnn_1 (SimpleRNN)           (None, 100, 8)            200       \n",
            "                                                                 \n",
            " rnn_2 (SimpleRNN)           (None, 8)                 136       \n",
            "                                                                 \n",
            " output (Dense)              (None, 1)                 9         \n",
            "                                                                 \n",
            "=================================================================\n",
            "Total params: 8,345\n",
            "Trainable params: 8,345\n",
            "Non-trainable params: 0\n",
            "_________________________________________________________________\n"
          ]
        }
      ]
    },
    {
      "cell_type": "code",
      "source": [
        "model2.compile(optimizer=rmsprop, loss='binary_crossentropy', \n",
        "              metrics=['accuracy'])"
      ],
      "metadata": {
        "id": "dTslMGXmEFkI"
      },
      "execution_count": 50,
      "outputs": []
    },
    {
      "cell_type": "code",
      "source": [
        "checkpoint_cb = keras.callbacks.ModelCheckpoint('best-embedding-model.tf')\n",
        "early_stopping_cb = keras.callbacks.EarlyStopping(patience=3,\n",
        "                                                  restore_best_weights=True)"
      ],
      "metadata": {
        "id": "xdsVaj-MEOR5"
      },
      "execution_count": 53,
      "outputs": []
    },
    {
      "cell_type": "code",
      "source": [
        "history = model2.fit(train_seq, train_target, epochs=100, batch_size=64,\n",
        "                    validation_data=(val_seq, val_target),\n",
        "                    callbacks=[checkpoint_cb, early_stopping_cb])"
      ],
      "metadata": {
        "colab": {
          "base_uri": "https://localhost:8080/"
        },
        "id": "yRk2PKo-ER87",
        "outputId": "5efbb868-ae4d-4869-b908-cebba681a64e"
      },
      "execution_count": 54,
      "outputs": [
        {
          "output_type": "stream",
          "name": "stdout",
          "text": [
            "Epoch 1/100\n",
            "313/313 [==============================] - ETA: 0s - loss: 0.6265 - accuracy: 0.6562INFO:tensorflow:Assets written to: best-embedding-model.tf/assets\n"
          ]
        },
        {
          "output_type": "stream",
          "name": "stderr",
          "text": [
            "INFO:tensorflow:Assets written to: best-embedding-model.tf/assets\n"
          ]
        },
        {
          "output_type": "stream",
          "name": "stdout",
          "text": [
            "\b\b\b\b\b\b\b\b\b\b\b\b\b\b\b\b\b\b\b\b\b\b\b\b\b\b\b\b\b\b\b\b\b\b\b\b\b\b\b\b\b\b\b\b\b\b\b\b\b\b\b\b\b\b\b\b\b\b\b\b\b\b\b\b\b\b\b\b\b\b\b\b\b\b\b\b\b\b\b\b\b\b\b\b\r313/313 [==============================] - 78s 251ms/step - loss: 0.6265 - accuracy: 0.6562 - val_loss: 0.5710 - val_accuracy: 0.7208\n",
            "Epoch 2/100\n",
            "312/313 [============================>.] - ETA: 0s - loss: 0.5700 - accuracy: 0.7178INFO:tensorflow:Assets written to: best-embedding-model.tf/assets\n"
          ]
        },
        {
          "output_type": "stream",
          "name": "stderr",
          "text": [
            "INFO:tensorflow:Assets written to: best-embedding-model.tf/assets\n"
          ]
        },
        {
          "output_type": "stream",
          "name": "stdout",
          "text": [
            "\b\b\b\b\b\b\b\b\b\b\b\b\b\b\b\b\b\b\b\b\b\b\b\b\b\b\b\b\b\b\b\b\b\b\b\b\b\b\b\b\b\b\b\b\b\b\b\b\b\b\b\b\b\b\b\b\b\b\b\b\b\b\b\b\b\b\b\b\b\b\b\b\b\b\b\b\b\b\b\b\b\b\b\b\r313/313 [==============================] - 19s 60ms/step - loss: 0.5699 - accuracy: 0.7178 - val_loss: 0.5336 - val_accuracy: 0.7480\n",
            "Epoch 3/100\n",
            "312/313 [============================>.] - ETA: 0s - loss: 0.5401 - accuracy: 0.7437INFO:tensorflow:Assets written to: best-embedding-model.tf/assets\n"
          ]
        },
        {
          "output_type": "stream",
          "name": "stderr",
          "text": [
            "INFO:tensorflow:Assets written to: best-embedding-model.tf/assets\n"
          ]
        },
        {
          "output_type": "stream",
          "name": "stdout",
          "text": [
            "\b\b\b\b\b\b\b\b\b\b\b\b\b\b\b\b\b\b\b\b\b\b\b\b\b\b\b\b\b\b\b\b\b\b\b\b\b\b\b\b\b\b\b\b\b\b\b\b\b\b\b\b\b\b\b\b\b\b\b\b\b\b\b\b\b\b\b\b\b\b\b\b\b\b\b\b\b\b\b\b\b\b\b\b\r313/313 [==============================] - 18s 59ms/step - loss: 0.5400 - accuracy: 0.7438 - val_loss: 0.5110 - val_accuracy: 0.7612\n",
            "Epoch 4/100\n",
            "312/313 [============================>.] - ETA: 0s - loss: 0.5215 - accuracy: 0.7566INFO:tensorflow:Assets written to: best-embedding-model.tf/assets\n"
          ]
        },
        {
          "output_type": "stream",
          "name": "stderr",
          "text": [
            "INFO:tensorflow:Assets written to: best-embedding-model.tf/assets\n"
          ]
        },
        {
          "output_type": "stream",
          "name": "stdout",
          "text": [
            "\b\b\b\b\b\b\b\b\b\b\b\b\b\b\b\b\b\b\b\b\b\b\b\b\b\b\b\b\b\b\b\b\b\b\b\b\b\b\b\b\b\b\b\b\b\b\b\b\b\b\b\b\b\b\b\b\b\b\b\b\b\b\b\b\b\b\b\b\b\b\b\b\b\b\b\b\b\b\b\b\b\b\b\b\r313/313 [==============================] - 19s 61ms/step - loss: 0.5213 - accuracy: 0.7567 - val_loss: 0.4915 - val_accuracy: 0.7762\n",
            "Epoch 5/100\n",
            "313/313 [==============================] - ETA: 0s - loss: 0.5044 - accuracy: 0.7681INFO:tensorflow:Assets written to: best-embedding-model.tf/assets\n"
          ]
        },
        {
          "output_type": "stream",
          "name": "stderr",
          "text": [
            "INFO:tensorflow:Assets written to: best-embedding-model.tf/assets\n"
          ]
        },
        {
          "output_type": "stream",
          "name": "stdout",
          "text": [
            "\b\b\b\b\b\b\b\b\b\b\b\b\b\b\b\b\b\b\b\b\b\b\b\b\b\b\b\b\b\b\b\b\b\b\b\b\b\b\b\b\b\b\b\b\b\b\b\b\b\b\b\b\b\b\b\b\b\b\b\b\b\b\b\b\b\b\b\b\b\b\b\b\b\b\b\b\b\b\b\b\b\b\b\b\r313/313 [==============================] - 18s 58ms/step - loss: 0.5044 - accuracy: 0.7681 - val_loss: 0.4815 - val_accuracy: 0.7832\n",
            "Epoch 6/100\n",
            "313/313 [==============================] - ETA: 0s - loss: 0.4946 - accuracy: 0.7723INFO:tensorflow:Assets written to: best-embedding-model.tf/assets\n"
          ]
        },
        {
          "output_type": "stream",
          "name": "stderr",
          "text": [
            "INFO:tensorflow:Assets written to: best-embedding-model.tf/assets\n"
          ]
        },
        {
          "output_type": "stream",
          "name": "stdout",
          "text": [
            "\b\b\b\b\b\b\b\b\b\b\b\b\b\b\b\b\b\b\b\b\b\b\b\b\b\b\b\b\b\b\b\b\b\b\b\b\b\b\b\b\b\b\b\b\b\b\b\b\b\b\b\b\b\b\b\b\b\b\b\b\b\b\b\b\b\b\b\b\b\b\b\b\b\b\b\b\b\b\b\b\b\b\b\b\r313/313 [==============================] - 19s 59ms/step - loss: 0.4946 - accuracy: 0.7723 - val_loss: 0.4702 - val_accuracy: 0.7894\n",
            "Epoch 7/100\n",
            "313/313 [==============================] - ETA: 0s - loss: 0.4839 - accuracy: 0.7783INFO:tensorflow:Assets written to: best-embedding-model.tf/assets\n"
          ]
        },
        {
          "output_type": "stream",
          "name": "stderr",
          "text": [
            "INFO:tensorflow:Assets written to: best-embedding-model.tf/assets\n"
          ]
        },
        {
          "output_type": "stream",
          "name": "stdout",
          "text": [
            "\b\b\b\b\b\b\b\b\b\b\b\b\b\b\b\b\b\b\b\b\b\b\b\b\b\b\b\b\b\b\b\b\b\b\b\b\b\b\b\b\b\b\b\b\b\b\b\b\b\b\b\b\b\b\b\b\b\b\b\b\b\b\b\b\b\b\b\b\b\b\b\b\b\b\b\b\b\b\b\b\b\b\b\b\r313/313 [==============================] - 19s 61ms/step - loss: 0.4839 - accuracy: 0.7783 - val_loss: 0.4669 - val_accuracy: 0.7862\n",
            "Epoch 8/100\n",
            "312/313 [============================>.] - ETA: 0s - loss: 0.4795 - accuracy: 0.7789INFO:tensorflow:Assets written to: best-embedding-model.tf/assets\n"
          ]
        },
        {
          "output_type": "stream",
          "name": "stderr",
          "text": [
            "INFO:tensorflow:Assets written to: best-embedding-model.tf/assets\n"
          ]
        },
        {
          "output_type": "stream",
          "name": "stdout",
          "text": [
            "\b\b\b\b\b\b\b\b\b\b\b\b\b\b\b\b\b\b\b\b\b\b\b\b\b\b\b\b\b\b\b\b\b\b\b\b\b\b\b\b\b\b\b\b\b\b\b\b\b\b\b\b\b\b\b\b\b\b\b\b\b\b\b\b\b\b\b\b\b\b\b\b\b\b\b\b\b\b\b\b\b\b\b\b\r313/313 [==============================] - 18s 58ms/step - loss: 0.4794 - accuracy: 0.7789 - val_loss: 0.4706 - val_accuracy: 0.7846\n",
            "Epoch 9/100\n",
            "312/313 [============================>.] - ETA: 0s - loss: 0.4712 - accuracy: 0.7853INFO:tensorflow:Assets written to: best-embedding-model.tf/assets\n"
          ]
        },
        {
          "output_type": "stream",
          "name": "stderr",
          "text": [
            "INFO:tensorflow:Assets written to: best-embedding-model.tf/assets\n"
          ]
        },
        {
          "output_type": "stream",
          "name": "stdout",
          "text": [
            "\b\b\b\b\b\b\b\b\b\b\b\b\b\b\b\b\b\b\b\b\b\b\b\b\b\b\b\b\b\b\b\b\b\b\b\b\b\b\b\b\b\b\b\b\b\b\b\b\b\b\b\b\b\b\b\b\b\b\b\b\b\b\b\b\b\b\b\b\b\b\b\b\b\b\b\b\b\b\b\b\b\b\b\b\r313/313 [==============================] - 19s 61ms/step - loss: 0.4713 - accuracy: 0.7853 - val_loss: 0.4665 - val_accuracy: 0.7858\n",
            "Epoch 10/100\n",
            "313/313 [==============================] - ETA: 0s - loss: 0.4651 - accuracy: 0.7899INFO:tensorflow:Assets written to: best-embedding-model.tf/assets\n"
          ]
        },
        {
          "output_type": "stream",
          "name": "stderr",
          "text": [
            "INFO:tensorflow:Assets written to: best-embedding-model.tf/assets\n"
          ]
        },
        {
          "output_type": "stream",
          "name": "stdout",
          "text": [
            "\b\b\b\b\b\b\b\b\b\b\b\b\b\b\b\b\b\b\b\b\b\b\b\b\b\b\b\b\b\b\b\b\b\b\b\b\b\b\b\b\b\b\b\b\b\b\b\b\b\b\b\b\b\b\b\b\b\b\b\b\b\b\b\b\b\b\b\b\b\b\b\b\b\b\b\b\b\b\b\b\b\b\b\b\r313/313 [==============================] - 18s 59ms/step - loss: 0.4651 - accuracy: 0.7899 - val_loss: 0.4562 - val_accuracy: 0.7922\n",
            "Epoch 11/100\n",
            "313/313 [==============================] - ETA: 0s - loss: 0.4631 - accuracy: 0.7896INFO:tensorflow:Assets written to: best-embedding-model.tf/assets\n"
          ]
        },
        {
          "output_type": "stream",
          "name": "stderr",
          "text": [
            "INFO:tensorflow:Assets written to: best-embedding-model.tf/assets\n"
          ]
        },
        {
          "output_type": "stream",
          "name": "stdout",
          "text": [
            "\b\b\b\b\b\b\b\b\b\b\b\b\b\b\b\b\b\b\b\b\b\b\b\b\b\b\b\b\b\b\b\b\b\b\b\b\b\b\b\b\b\b\b\b\b\b\b\b\b\b\b\b\b\b\b\b\b\b\b\b\b\b\b\b\b\b\b\b\b\b\b\b\b\b\b\b\b\b\b\b\b\b\b\b\r313/313 [==============================] - 18s 59ms/step - loss: 0.4631 - accuracy: 0.7896 - val_loss: 0.4539 - val_accuracy: 0.7950\n",
            "Epoch 12/100\n",
            "313/313 [==============================] - ETA: 0s - loss: 0.4604 - accuracy: 0.7903INFO:tensorflow:Assets written to: best-embedding-model.tf/assets\n"
          ]
        },
        {
          "output_type": "stream",
          "name": "stderr",
          "text": [
            "INFO:tensorflow:Assets written to: best-embedding-model.tf/assets\n"
          ]
        },
        {
          "output_type": "stream",
          "name": "stdout",
          "text": [
            "\b\b\b\b\b\b\b\b\b\b\b\b\b\b\b\b\b\b\b\b\b\b\b\b\b\b\b\b\b\b\b\b\b\b\b\b\b\b\b\b\b\b\b\b\b\b\b\b\b\b\b\b\b\b\b\b\b\b\b\b\b\b\b\b\b\b\b\b\b\b\b\b\b\b\b\b\b\b\b\b\b\b\b\b\r313/313 [==============================] - 20s 63ms/step - loss: 0.4604 - accuracy: 0.7903 - val_loss: 0.4534 - val_accuracy: 0.7942\n",
            "Epoch 13/100\n",
            "313/313 [==============================] - ETA: 0s - loss: 0.4555 - accuracy: 0.7933INFO:tensorflow:Assets written to: best-embedding-model.tf/assets\n"
          ]
        },
        {
          "output_type": "stream",
          "name": "stderr",
          "text": [
            "INFO:tensorflow:Assets written to: best-embedding-model.tf/assets\n"
          ]
        },
        {
          "output_type": "stream",
          "name": "stdout",
          "text": [
            "\b\b\b\b\b\b\b\b\b\b\b\b\b\b\b\b\b\b\b\b\b\b\b\b\b\b\b\b\b\b\b\b\b\b\b\b\b\b\b\b\b\b\b\b\b\b\b\b\b\b\b\b\b\b\b\b\b\b\b\b\b\b\b\b\b\b\b\b\b\b\b\b\b\b\b\b\b\b\b\b\b\b\b\b\r313/313 [==============================] - 19s 61ms/step - loss: 0.4555 - accuracy: 0.7933 - val_loss: 0.4515 - val_accuracy: 0.7950\n",
            "Epoch 14/100\n",
            "312/313 [============================>.] - ETA: 0s - loss: 0.4535 - accuracy: 0.7951INFO:tensorflow:Assets written to: best-embedding-model.tf/assets\n"
          ]
        },
        {
          "output_type": "stream",
          "name": "stderr",
          "text": [
            "INFO:tensorflow:Assets written to: best-embedding-model.tf/assets\n"
          ]
        },
        {
          "output_type": "stream",
          "name": "stdout",
          "text": [
            "\b\b\b\b\b\b\b\b\b\b\b\b\b\b\b\b\b\b\b\b\b\b\b\b\b\b\b\b\b\b\b\b\b\b\b\b\b\b\b\b\b\b\b\b\b\b\b\b\b\b\b\b\b\b\b\b\b\b\b\b\b\b\b\b\b\b\b\b\b\b\b\b\b\b\b\b\b\b\b\b\b\b\b\b\r313/313 [==============================] - 19s 60ms/step - loss: 0.4536 - accuracy: 0.7950 - val_loss: 0.4515 - val_accuracy: 0.7968\n",
            "Epoch 15/100\n",
            "312/313 [============================>.] - ETA: 0s - loss: 0.4501 - accuracy: 0.7947INFO:tensorflow:Assets written to: best-embedding-model.tf/assets\n"
          ]
        },
        {
          "output_type": "stream",
          "name": "stderr",
          "text": [
            "INFO:tensorflow:Assets written to: best-embedding-model.tf/assets\n"
          ]
        },
        {
          "output_type": "stream",
          "name": "stdout",
          "text": [
            "\b\b\b\b\b\b\b\b\b\b\b\b\b\b\b\b\b\b\b\b\b\b\b\b\b\b\b\b\b\b\b\b\b\b\b\b\b\b\b\b\b\b\b\b\b\b\b\b\b\b\b\b\b\b\b\b\b\b\b\b\b\b\b\b\b\b\b\b\b\b\b\b\b\b\b\b\b\b\b\b\b\b\b\b\r313/313 [==============================] - 19s 62ms/step - loss: 0.4502 - accuracy: 0.7946 - val_loss: 0.4468 - val_accuracy: 0.7940\n",
            "Epoch 16/100\n",
            "312/313 [============================>.] - ETA: 0s - loss: 0.4492 - accuracy: 0.7975INFO:tensorflow:Assets written to: best-embedding-model.tf/assets\n"
          ]
        },
        {
          "output_type": "stream",
          "name": "stderr",
          "text": [
            "INFO:tensorflow:Assets written to: best-embedding-model.tf/assets\n"
          ]
        },
        {
          "output_type": "stream",
          "name": "stdout",
          "text": [
            "\b\b\b\b\b\b\b\b\b\b\b\b\b\b\b\b\b\b\b\b\b\b\b\b\b\b\b\b\b\b\b\b\b\b\b\b\b\b\b\b\b\b\b\b\b\b\b\b\b\b\b\b\b\b\b\b\b\b\b\b\b\b\b\b\b\b\b\b\b\b\b\b\b\b\b\b\b\b\b\b\b\b\b\b\r313/313 [==============================] - 19s 61ms/step - loss: 0.4490 - accuracy: 0.7976 - val_loss: 0.4482 - val_accuracy: 0.7972\n",
            "Epoch 17/100\n",
            "312/313 [============================>.] - ETA: 0s - loss: 0.4453 - accuracy: 0.7970INFO:tensorflow:Assets written to: best-embedding-model.tf/assets\n"
          ]
        },
        {
          "output_type": "stream",
          "name": "stderr",
          "text": [
            "INFO:tensorflow:Assets written to: best-embedding-model.tf/assets\n"
          ]
        },
        {
          "output_type": "stream",
          "name": "stdout",
          "text": [
            "\b\b\b\b\b\b\b\b\b\b\b\b\b\b\b\b\b\b\b\b\b\b\b\b\b\b\b\b\b\b\b\b\b\b\b\b\b\b\b\b\b\b\b\b\b\b\b\b\b\b\b\b\b\b\b\b\b\b\b\b\b\b\b\b\b\b\b\b\b\b\b\b\b\b\b\b\b\b\b\b\b\b\b\b\r313/313 [==============================] - 20s 63ms/step - loss: 0.4451 - accuracy: 0.7970 - val_loss: 0.4536 - val_accuracy: 0.7960\n",
            "Epoch 18/100\n",
            "312/313 [============================>.] - ETA: 0s - loss: 0.4441 - accuracy: 0.7980INFO:tensorflow:Assets written to: best-embedding-model.tf/assets\n"
          ]
        },
        {
          "output_type": "stream",
          "name": "stderr",
          "text": [
            "INFO:tensorflow:Assets written to: best-embedding-model.tf/assets\n"
          ]
        },
        {
          "output_type": "stream",
          "name": "stdout",
          "text": [
            "\b\b\b\b\b\b\b\b\b\b\b\b\b\b\b\b\b\b\b\b\b\b\b\b\b\b\b\b\b\b\b\b\b\b\b\b\b\b\b\b\b\b\b\b\b\b\b\b\b\b\b\b\b\b\b\b\b\b\b\b\b\b\b\b\b\b\b\b\b\b\b\b\b\b\b\b\b\b\b\b\b\b\b\b\r313/313 [==============================] - 19s 61ms/step - loss: 0.4441 - accuracy: 0.7979 - val_loss: 0.4509 - val_accuracy: 0.7934\n"
          ]
        }
      ]
    },
    {
      "cell_type": "code",
      "source": [
        "plt.plot(history.history['loss'])\n",
        "plt.plot(history.history['val_loss'])\n",
        "plt.xlabel('epoch')\n",
        "plt.ylabel('loss')\n",
        "plt.legend(['train', 'val'])\n",
        "plt.show()"
      ],
      "metadata": {
        "colab": {
          "base_uri": "https://localhost:8080/",
          "height": 279
        },
        "id": "2ZrpACE3EcyH",
        "outputId": "e904fd4c-d7f0-4f88-f439-1c32f52e3f13"
      },
      "execution_count": 55,
      "outputs": [
        {
          "output_type": "display_data",
          "data": {
            "text/plain": [
              "<Figure size 432x288 with 1 Axes>"
            ],
            "image/png": "[encoded data removed]"
          },
          "metadata": {
            "needs_background": "light"
          }
        }
      ]
    }
  ]
}